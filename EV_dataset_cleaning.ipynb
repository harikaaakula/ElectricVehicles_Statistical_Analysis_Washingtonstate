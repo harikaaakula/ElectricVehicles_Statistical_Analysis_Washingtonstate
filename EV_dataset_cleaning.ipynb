{
 "cells": [
  {
   "cell_type": "code",
   "execution_count": 5,
   "metadata": {},
   "outputs": [
    {
     "name": "stdout",
     "output_type": "stream",
     "text": [
      "VIN (1-10)                                             0\n",
      "County                                                 4\n",
      "City                                                   4\n",
      "State                                                  0\n",
      "Postal Code                                            4\n",
      "Model Year                                             0\n",
      "Make                                                   0\n",
      "Model                                                  0\n",
      "Electric Vehicle Type                                  0\n",
      "Clean Alternative Fuel Vehicle (CAFV) Eligibility      0\n",
      "Electric Range                                        27\n",
      "Base MSRP                                             27\n",
      "Legislative District                                 481\n",
      "DOL Vehicle ID                                         0\n",
      "Vehicle Location                                      11\n",
      "Electric Utility                                       4\n",
      "2020 Census Tract                                      4\n",
      "dtype: int64\n"
     ]
    }
   ],
   "source": [
    "import pandas as pd\n",
    "\n",
    "# Load the dataset\n",
    "df = pd.read_csv(\"/Users/harikaaakula/Downloads/Electric_Vehicle_Population_Data_20250220.csv\")  # Update with actual file path\n",
    "# Check for missing values\n",
    "missing_values = df.isnull().sum()\n",
    "print(missing_values)"
   ]
  },
  {
   "cell_type": "code",
   "execution_count": 11,
   "metadata": {},
   "outputs": [
    {
     "name": "stdout",
     "output_type": "stream",
     "text": [
      "Original dataset size: 232230 rows\n",
      "Cleaned dataset size: 95335 rows\n",
      "Cleaning complete! Saved as 'cleaned_dataset_final.csv'\n"
     ]
    }
   ],
   "source": [
    "\n",
    "import pandas as pd\n",
    "\n",
    "# Load the dataset (update 'your_dataset.csv' with actual file path)\n",
    "df = pd.read_csv(\"/Users/harikaaakula/Downloads/Electric_Vehicle_Population_Data_20250220.csv\")\n",
    "\n",
    "# Remove rows where CAFV eligibility is 'Eligibility unknown as battery range has not been researched'\n",
    "df_cleaned = df[df[\"Clean Alternative Fuel Vehicle (CAFV) Eligibility\"] != \"Eligibility unknown as battery range has not been researched\"]\n",
    "\n",
    "# Remove rows where 'County' or 'City' are blank (assuming blanks are empty strings or NaN)\n",
    "df_cleaned = df_cleaned.dropna(subset=[\"County\", \"City\", \"Electric Range\"])\n",
    "\n",
    "# Save the cleaned dataset\n",
    "df_cleaned.to_csv(\"cleaned_dataset_final.csv\", index=False)\n",
    "\n",
    "print(f\"Original dataset size: {df.shape[0]} rows\")\n",
    "print(f\"Cleaned dataset size: {df_cleaned.shape[0]} rows\")\n",
    "print(\"Cleaning complete! Saved as 'cleaned_dataset_final.csv'\")\n"
   ]
  },
  {
   "cell_type": "code",
   "execution_count": 12,
   "metadata": {},
   "outputs": [
    {
     "name": "stdout",
     "output_type": "stream",
     "text": [
      "(9533, 17)\n"
     ]
    }
   ],
   "source": [
    "import pandas as pd\n",
    "from sklearn.model_selection import train_test_split\n",
    "\n",
    "# Load your dataset\n",
    "df = pd.read_csv('/Users/harikaaakula/Desktop/Python files/cleaned_dataset_final.csv')  # Replace with your actual file path\n",
    "\n",
    "# Ensure 'Electric Vehicle Type' is a string or categorical variable\n",
    "df['Electric Vehicle Type'] = df['Electric Vehicle Type'].astype('category')\n",
    "\n",
    "# Create a stratified sample using train_test_split with a fraction of 0.1\n",
    "stratified_sample, _ = train_test_split(df, test_size=0.9, stratify=df['Electric Vehicle Type'], random_state=42)\n",
    "\n",
    "print(stratified_sample.shape)  # Displays the shape of the stratified sample\n",
    "\n",
    "# Export the stratified sample to a CSV file\n",
    "stratified_sample.to_csv('stratified_sample_final.csv', index=False)  # Replace with desired output file name\n",
    "\n"
   ]
  }
 ],
 "metadata": {
  "kernelspec": {
   "display_name": "Python 3",
   "language": "python",
   "name": "python3"
  },
  "language_info": {
   "codemirror_mode": {
    "name": "ipython",
    "version": 3
   },
   "file_extension": ".py",
   "mimetype": "text/x-python",
   "name": "python",
   "nbconvert_exporter": "python",
   "pygments_lexer": "ipython3",
   "version": "3.13.2"
  }
 },
 "nbformat": 4,
 "nbformat_minor": 2
}
